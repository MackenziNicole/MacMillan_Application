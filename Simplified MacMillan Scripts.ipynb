{
 "cells": [
  {
   "cell_type": "markdown",
   "id": "eebcf68c",
   "metadata": {},
   "source": [
    "# MacMillan Operations Analyst Application"
   ]
  },
  {
   "cell_type": "markdown",
   "id": "d3087fba",
   "metadata": {},
   "source": [
    "## Mackenzie N. Austin"
   ]
  },
  {
   "cell_type": "markdown",
   "id": "694998b4",
   "metadata": {},
   "source": [
    "#### Process Optimization"
   ]
  },
  {
   "cell_type": "code",
   "execution_count": 1,
   "id": "ad336d4b",
   "metadata": {},
   "outputs": [
    {
     "name": "stdout",
     "output_type": "stream",
     "text": [
      "Product: Product A\n",
      "Total Sales: 891\n",
      "Average Monthly Sales: 74.25\n",
      "Max Monthly Sales: 99\n",
      "Min Monthly Sales: 26\n",
      "-------------\n",
      "Product: Product B\n",
      "Total Sales: 788\n",
      "Average Monthly Sales: 65.66666666666667\n",
      "Max Monthly Sales: 94\n",
      "Min Monthly Sales: 10\n",
      "-------------\n",
      "Product: Product C\n",
      "Total Sales: 759\n",
      "Average Monthly Sales: 63.25\n",
      "Max Monthly Sales: 90\n",
      "Min Monthly Sales: 30\n",
      "-------------\n"
     ]
    }
   ],
   "source": [
    "import random\n",
    "\n",
    "# Generate random product data\n",
    "products = ['Product A', 'Product B', 'Product C']\n",
    "sales_data = {product: [random.randint(10, 100) for _ in range(12)] for product in products}\n",
    "\n",
    "# Calculate and print performance metrics\n",
    "for product, sales in sales_data.items():\n",
    "    total_sales = sum(sales)\n",
    "    avg_sales = total_sales / len(sales)\n",
    "    max_sales = max(sales)\n",
    "    min_sales = min(sales)\n",
    "    \n",
    "    print(f\"Product: {product}\")\n",
    "    print(f\"Total Sales: {total_sales}\")\n",
    "    print(f\"Average Monthly Sales: {avg_sales}\")\n",
    "    print(f\"Max Monthly Sales: {max_sales}\")\n",
    "    print(f\"Min Monthly Sales: {min_sales}\")\n",
    "    print(\"-------------\")"
   ]
  },
  {
   "cell_type": "markdown",
   "id": "184c6416",
   "metadata": {},
   "source": [
    "#### Inventory Control"
   ]
  },
  {
   "cell_type": "code",
   "execution_count": 2,
   "id": "4da3941b",
   "metadata": {},
   "outputs": [
    {
     "name": "stdout",
     "output_type": "stream",
     "text": [
      "Updated Inventory:\n",
      "{'Product A': 47, 'Product B': 24, 'Product C': 56}\n"
     ]
    }
   ],
   "source": [
    "import random\n",
    "\n",
    "# Generate random inventory data\n",
    "inventory = {'Product A': random.randint(10, 100), 'Product B': random.randint(10, 100), 'Product C': random.randint(10, 100)}\n",
    "\n",
    "# Set reorder points and order quantities\n",
    "reorder_points = {'Product A': 20, 'Product B': 15, 'Product C': 30}\n",
    "order_quantities = {'Product A': 50, 'Product B': 40, 'Product C': 60}\n",
    "\n",
    "# Inventory control logic\n",
    "for product, current_inventory in inventory.items():\n",
    "    if current_inventory < reorder_points[product]:\n",
    "        order_quantity = order_quantities[product]\n",
    "        print(f\"Order {order_quantity} units of {product}\")\n",
    "        inventory[product] += order_quantity\n",
    "\n",
    "print(\"Updated Inventory:\")\n",
    "print(inventory)"
   ]
  },
  {
   "cell_type": "markdown",
   "id": "05d35cb9",
   "metadata": {},
   "source": [
    "#### Transportation Scheduling"
   ]
  },
  {
   "cell_type": "code",
   "execution_count": 3,
   "id": "f42f4e36",
   "metadata": {},
   "outputs": [
    {
     "name": "stdout",
     "output_type": "stream",
     "text": [
      "Route: Route 1\n",
      "Products: Product A, Product B\n",
      "-------------\n",
      "Route: Route 2\n",
      "Products: Product C\n",
      "-------------\n",
      "Route: Route 3\n",
      "Products: Product A, Product C\n",
      "-------------\n"
     ]
    }
   ],
   "source": [
    "# Sample transportation data\n",
    "transport_schedule = {\n",
    "    'Route 1': ['Product A', 'Product B'],\n",
    "    'Route 2': ['Product C'],\n",
    "    'Route 3': ['Product A', 'Product C'],\n",
    "}\n",
    "\n",
    "# Print transportation schedule\n",
    "for route, products in transport_schedule.items():\n",
    "    print(f\"Route: {route}\")\n",
    "    print(f\"Products: {', '.join(products)}\")\n",
    "    print(\"-------------\")"
   ]
  },
  {
   "cell_type": "markdown",
   "id": "fa79d689",
   "metadata": {},
   "source": [
    "#### Forecasting"
   ]
  },
  {
   "cell_type": "code",
   "execution_count": 4,
   "id": "0a8a10c2",
   "metadata": {},
   "outputs": [
    {
     "name": "stdout",
     "output_type": "stream",
     "text": [
      "Average Monthly Sales: 57.5\n"
     ]
    }
   ],
   "source": [
    "import random\n",
    "\n",
    "# Generate random sales data\n",
    "sales_data = [random.randint(10, 100) for _ in range(12)]\n",
    "\n",
    "# Calculate a simple demand forecast (e.g., average sales)\n",
    "average_sales = sum(sales_data) / len(sales_data)\n",
    "\n",
    "print(f\"Average Monthly Sales: {average_sales}\")"
   ]
  },
  {
   "cell_type": "markdown",
   "id": "47bb711a",
   "metadata": {},
   "source": [
    "#### Vendor Performance"
   ]
  },
  {
   "cell_type": "code",
   "execution_count": 5,
   "id": "f3517687",
   "metadata": {},
   "outputs": [
    {
     "name": "stdout",
     "output_type": "stream",
     "text": [
      "Vendor: Vendor A\n",
      "Performance Score: 1\n",
      "-------------\n",
      "Vendor: Vendor B\n",
      "Performance Score: 39\n",
      "-------------\n",
      "Vendor: Vendor C\n",
      "Performance Score: 62\n",
      "-------------\n"
     ]
    }
   ],
   "source": [
    "import random\n",
    "\n",
    "# Generate random vendor performance data\n",
    "vendors = ['Vendor A', 'Vendor B', 'Vendor C']\n",
    "performance_data = {vendor: random.randint(1, 100) for vendor in vendors}\n",
    "\n",
    "# Print vendor performance data\n",
    "for vendor, performance_score in performance_data.items():\n",
    "    print(f\"Vendor: {vendor}\")\n",
    "    print(f\"Performance Score: {performance_score}\")\n",
    "    print(\"-------------\")"
   ]
  },
  {
   "cell_type": "code",
   "execution_count": null,
   "id": "fa0d9188",
   "metadata": {},
   "outputs": [],
   "source": []
  }
 ],
 "metadata": {
  "kernelspec": {
   "display_name": "Python 3 (ipykernel)",
   "language": "python",
   "name": "python3"
  },
  "language_info": {
   "codemirror_mode": {
    "name": "ipython",
    "version": 3
   },
   "file_extension": ".py",
   "mimetype": "text/x-python",
   "name": "python",
   "nbconvert_exporter": "python",
   "pygments_lexer": "ipython3",
   "version": "3.10.9"
  }
 },
 "nbformat": 4,
 "nbformat_minor": 5
}
